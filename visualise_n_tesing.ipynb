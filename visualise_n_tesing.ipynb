{
 "cells": [
  {
   "cell_type": "code",
   "execution_count": 1,
   "metadata": {},
   "outputs": [],
   "source": [
    "import numpy as np \n",
    "import pandas as pd\n",
    "import matplotlib.pyplot as plt\n",
    "import seaborn as sns"
   ]
  },
  {
   "cell_type": "code",
   "execution_count": 2,
   "metadata": {
    "scrolled": true
   },
   "outputs": [
    {
     "data": {
      "text/html": [
       "<div>\n",
       "<style scoped>\n",
       "    .dataframe tbody tr th:only-of-type {\n",
       "        vertical-align: middle;\n",
       "    }\n",
       "\n",
       "    .dataframe tbody tr th {\n",
       "        vertical-align: top;\n",
       "    }\n",
       "\n",
       "    .dataframe thead th {\n",
       "        text-align: right;\n",
       "    }\n",
       "</style>\n",
       "<table border=\"1\" class=\"dataframe\">\n",
       "  <thead>\n",
       "    <tr style=\"text-align: right;\">\n",
       "      <th></th>\n",
       "      <th>name</th>\n",
       "      <th>real_name</th>\n",
       "      <th>history</th>\n",
       "      <th>gender</th>\n",
       "      <th>race</th>\n",
       "    </tr>\n",
       "  </thead>\n",
       "  <tbody>\n",
       "    <tr>\n",
       "      <th>0</th>\n",
       "      <td>3-D Man</td>\n",
       "      <td>Delroy Garrett, Jr.</td>\n",
       "      <td>Delroy Garrett, Jr. grew up to become a track ...</td>\n",
       "      <td>Male</td>\n",
       "      <td>Human</td>\n",
       "    </tr>\n",
       "    <tr>\n",
       "      <th>1</th>\n",
       "      <td>514A (Gotham)</td>\n",
       "      <td>Bruce Wayne</td>\n",
       "      <td>He was one of the many prisoners of Indian Hil...</td>\n",
       "      <td>NaN</td>\n",
       "      <td>NaN</td>\n",
       "    </tr>\n",
       "    <tr>\n",
       "      <th>2</th>\n",
       "      <td>A-Bomb</td>\n",
       "      <td>Richard Milhouse Jones</td>\n",
       "      <td>Richard \"Rick\" Jones was orphaned at a young ...</td>\n",
       "      <td>Male</td>\n",
       "      <td>Human</td>\n",
       "    </tr>\n",
       "    <tr>\n",
       "      <th>3</th>\n",
       "      <td>Aa</td>\n",
       "      <td>Aa</td>\n",
       "      <td>Aa is one of the more passive members of the P...</td>\n",
       "      <td>Male</td>\n",
       "      <td>Human</td>\n",
       "    </tr>\n",
       "    <tr>\n",
       "      <th>4</th>\n",
       "      <td>Aaron Cash</td>\n",
       "      <td>Aaron Cash</td>\n",
       "      <td>Aaron Cash is the head of security at Arkham A...</td>\n",
       "      <td>Male</td>\n",
       "      <td>Human</td>\n",
       "    </tr>\n",
       "    <tr>\n",
       "      <th>...</th>\n",
       "      <td>...</td>\n",
       "      <td>...</td>\n",
       "      <td>...</td>\n",
       "      <td>...</td>\n",
       "      <td>...</td>\n",
       "    </tr>\n",
       "    <tr>\n",
       "      <th>1445</th>\n",
       "      <td>Zatanna</td>\n",
       "      <td>Zatanna Zatara</td>\n",
       "      <td>Zatanna is the daughter of adventurer John Zat...</td>\n",
       "      <td>Female</td>\n",
       "      <td>Human</td>\n",
       "    </tr>\n",
       "    <tr>\n",
       "      <th>1446</th>\n",
       "      <td>Zero</td>\n",
       "      <td>DWN-∞: Zero</td>\n",
       "      <td>Zero was created by the late Dr. Albert Wily ...</td>\n",
       "      <td>Male</td>\n",
       "      <td>Cyborg</td>\n",
       "    </tr>\n",
       "    <tr>\n",
       "      <th>1447</th>\n",
       "      <td>Zoom (New 52)</td>\n",
       "      <td>Hunter Zolomon</td>\n",
       "      <td>Hunter Zolomon is better known as Zoom, a spee...</td>\n",
       "      <td>Male</td>\n",
       "      <td>NaN</td>\n",
       "    </tr>\n",
       "    <tr>\n",
       "      <th>1448</th>\n",
       "      <td>Zoom</td>\n",
       "      <td>Hunter Zolomon</td>\n",
       "      <td>Hunter Zolomon had a troubled relationship wi...</td>\n",
       "      <td>Male</td>\n",
       "      <td>NaN</td>\n",
       "    </tr>\n",
       "    <tr>\n",
       "      <th>1449</th>\n",
       "      <td>Zzzax</td>\n",
       "      <td>NaN</td>\n",
       "      <td>Zzzax was the product of an accident that occu...</td>\n",
       "      <td>NaN</td>\n",
       "      <td>NaN</td>\n",
       "    </tr>\n",
       "  </tbody>\n",
       "</table>\n",
       "<p>1450 rows × 5 columns</p>\n",
       "</div>"
      ],
      "text/plain": [
       "               name               real_name  \\\n",
       "0           3-D Man     Delroy Garrett, Jr.   \n",
       "1     514A (Gotham)             Bruce Wayne   \n",
       "2            A-Bomb  Richard Milhouse Jones   \n",
       "3                Aa                      Aa   \n",
       "4        Aaron Cash              Aaron Cash   \n",
       "...             ...                     ...   \n",
       "1445        Zatanna          Zatanna Zatara   \n",
       "1446           Zero             DWN-∞: Zero   \n",
       "1447  Zoom (New 52)          Hunter Zolomon   \n",
       "1448           Zoom          Hunter Zolomon   \n",
       "1449          Zzzax                     NaN   \n",
       "\n",
       "                                                history  gender    race  \n",
       "0     Delroy Garrett, Jr. grew up to become a track ...    Male   Human  \n",
       "1     He was one of the many prisoners of Indian Hil...     NaN     NaN  \n",
       "2      Richard \"Rick\" Jones was orphaned at a young ...    Male   Human  \n",
       "3     Aa is one of the more passive members of the P...    Male   Human  \n",
       "4     Aaron Cash is the head of security at Arkham A...    Male   Human  \n",
       "...                                                 ...     ...     ...  \n",
       "1445  Zatanna is the daughter of adventurer John Zat...  Female   Human  \n",
       "1446   Zero was created by the late Dr. Albert Wily ...    Male  Cyborg  \n",
       "1447  Hunter Zolomon is better known as Zoom, a spee...    Male     NaN  \n",
       "1448   Hunter Zolomon had a troubled relationship wi...    Male     NaN  \n",
       "1449  Zzzax was the product of an accident that occu...     NaN     NaN  \n",
       "\n",
       "[1450 rows x 5 columns]"
      ]
     },
     "execution_count": 2,
     "metadata": {},
     "output_type": "execute_result"
    }
   ],
   "source": [
    "data=pd.read_csv('./altered_data.csv',)\n",
    "data"
   ]
  },
  {
   "cell_type": "code",
   "execution_count": 3,
   "metadata": {},
   "outputs": [],
   "source": [
    "raw_data=data"
   ]
  },
  {
   "cell_type": "markdown",
   "metadata": {},
   "source": [
    "### checkpoint\n"
   ]
  },
  {
   "cell_type": "code",
   "execution_count": 30,
   "metadata": {},
   "outputs": [
    {
     "data": {
      "text/html": [
       "<div>\n",
       "<style scoped>\n",
       "    .dataframe tbody tr th:only-of-type {\n",
       "        vertical-align: middle;\n",
       "    }\n",
       "\n",
       "    .dataframe tbody tr th {\n",
       "        vertical-align: top;\n",
       "    }\n",
       "\n",
       "    .dataframe thead th {\n",
       "        text-align: right;\n",
       "    }\n",
       "</style>\n",
       "<table border=\"1\" class=\"dataframe\">\n",
       "  <thead>\n",
       "    <tr style=\"text-align: right;\">\n",
       "      <th></th>\n",
       "      <th>name</th>\n",
       "      <th>real_name</th>\n",
       "      <th>history</th>\n",
       "      <th>gender</th>\n",
       "      <th>race</th>\n",
       "    </tr>\n",
       "  </thead>\n",
       "  <tbody>\n",
       "    <tr>\n",
       "      <th>5</th>\n",
       "      <td>Aayla Secura</td>\n",
       "      <td>Aayla Secura</td>\n",
       "      <td>ayla Secura was a Rutian Twi'lek Jedi Knight (...</td>\n",
       "      <td>Female</td>\n",
       "      <td>Alien</td>\n",
       "    </tr>\n",
       "    <tr>\n",
       "      <th>38</th>\n",
       "      <td>Alien</td>\n",
       "      <td>Xenomorph</td>\n",
       "      <td>There are several different phases to a Xeno...</td>\n",
       "      <td>Male</td>\n",
       "      <td>Alien</td>\n",
       "    </tr>\n",
       "    <tr>\n",
       "      <th>67</th>\n",
       "      <td>Anti-Spawn</td>\n",
       "      <td>The Redeemer</td>\n",
       "      <td>The first Redeemer, or Anti-Spawn, as he was r...</td>\n",
       "      <td>Male</td>\n",
       "      <td>Alien</td>\n",
       "    </tr>\n",
       "    <tr>\n",
       "      <th>68</th>\n",
       "      <td>Anti-Venom</td>\n",
       "      <td>Eddie Brock</td>\n",
       "      <td>Check Venom I for previous history.   Thanks t...</td>\n",
       "      <td>Male</td>\n",
       "      <td>Alien</td>\n",
       "    </tr>\n",
       "    <tr>\n",
       "      <th>82</th>\n",
       "      <td>Ardina</td>\n",
       "      <td>Ardina</td>\n",
       "      <td>Ardina was created magically, by stabbing Sil...</td>\n",
       "      <td>Female</td>\n",
       "      <td>Alien</td>\n",
       "    </tr>\n",
       "    <tr>\n",
       "      <th>...</th>\n",
       "      <td>...</td>\n",
       "      <td>...</td>\n",
       "      <td>...</td>\n",
       "      <td>...</td>\n",
       "      <td>...</td>\n",
       "    </tr>\n",
       "    <tr>\n",
       "      <th>1365</th>\n",
       "      <td>Venom</td>\n",
       "      <td>Eddie Brock</td>\n",
       "      <td>The symbiotes were a conquering race who had n...</td>\n",
       "      <td>Male</td>\n",
       "      <td>Alien</td>\n",
       "    </tr>\n",
       "    <tr>\n",
       "      <th>1366</th>\n",
       "      <td>Venompool</td>\n",
       "      <td>Wade Wilson</td>\n",
       "      <td>Arnold Wesker was a mild-mannered, timid and m...</td>\n",
       "      <td>Male</td>\n",
       "      <td>Alien</td>\n",
       "    </tr>\n",
       "    <tr>\n",
       "      <th>1439</th>\n",
       "      <td>Yoda</td>\n",
       "      <td>Yoda</td>\n",
       "      <td>Yoda was one of the most renowned and powerfu...</td>\n",
       "      <td>Male</td>\n",
       "      <td>Alien</td>\n",
       "    </tr>\n",
       "    <tr>\n",
       "      <th>1440</th>\n",
       "      <td>Yondu (MCU)</td>\n",
       "      <td>Yondu</td>\n",
       "      <td>Yondu Udonta was a Centaurian, leader of a key...</td>\n",
       "      <td>Male</td>\n",
       "      <td>Alien</td>\n",
       "    </tr>\n",
       "    <tr>\n",
       "      <th>1441</th>\n",
       "      <td>Yondu</td>\n",
       "      <td>Yondu Udonta</td>\n",
       "      <td>Yondu is the leader of the Ravagers, a group o...</td>\n",
       "      <td>Male</td>\n",
       "      <td>Alien</td>\n",
       "    </tr>\n",
       "  </tbody>\n",
       "</table>\n",
       "<p>134 rows × 5 columns</p>\n",
       "</div>"
      ],
      "text/plain": [
       "              name     real_name  \\\n",
       "5     Aayla Secura  Aayla Secura   \n",
       "38           Alien     Xenomorph   \n",
       "67      Anti-Spawn  The Redeemer   \n",
       "68      Anti-Venom   Eddie Brock   \n",
       "82          Ardina        Ardina   \n",
       "...            ...           ...   \n",
       "1365         Venom   Eddie Brock   \n",
       "1366     Venompool   Wade Wilson   \n",
       "1439          Yoda          Yoda   \n",
       "1440   Yondu (MCU)         Yondu   \n",
       "1441         Yondu  Yondu Udonta   \n",
       "\n",
       "                                                history  gender   race  \n",
       "5     ayla Secura was a Rutian Twi'lek Jedi Knight (...  Female  Alien  \n",
       "38      There are several different phases to a Xeno...    Male  Alien  \n",
       "67    The first Redeemer, or Anti-Spawn, as he was r...    Male  Alien  \n",
       "68    Check Venom I for previous history.   Thanks t...    Male  Alien  \n",
       "82     Ardina was created magically, by stabbing Sil...  Female  Alien  \n",
       "...                                                 ...     ...    ...  \n",
       "1365  The symbiotes were a conquering race who had n...    Male  Alien  \n",
       "1366  Arnold Wesker was a mild-mannered, timid and m...    Male  Alien  \n",
       "1439   Yoda was one of the most renowned and powerfu...    Male  Alien  \n",
       "1440  Yondu Udonta was a Centaurian, leader of a key...    Male  Alien  \n",
       "1441  Yondu is the leader of the Ravagers, a group o...    Male  Alien  \n",
       "\n",
       "[134 rows x 5 columns]"
      ]
     },
     "execution_count": 30,
     "metadata": {},
     "output_type": "execute_result"
    }
   ],
   "source": [
    "raw_data[raw_data['race']=='Alien']\n",
    "# raw_data[raw_data['race']=='_']=None"
   ]
  },
  {
   "cell_type": "code",
   "execution_count": 5,
   "metadata": {},
   "outputs": [],
   "source": [
    "drop_index=raw_data[raw_data['race']=='Human'].index[150:]\n",
    "raw_data.drop(index=drop_index,inplace=True)"
   ]
  },
  {
   "cell_type": "code",
   "execution_count": 6,
   "metadata": {},
   "outputs": [
    {
     "data": {
      "text/plain": [
       "14"
      ]
     },
     "execution_count": 6,
     "metadata": {},
     "output_type": "execute_result"
    }
   ],
   "source": [
    "raw_data['race'].unique().size"
   ]
  },
  {
   "cell_type": "code",
   "execution_count": 7,
   "metadata": {},
   "outputs": [
    {
     "data": {
      "text/plain": [
       "name         0\n",
       "real_name    0\n",
       "history      0\n",
       "gender       0\n",
       "race         0\n",
       "dtype: int64"
      ]
     },
     "execution_count": 7,
     "metadata": {},
     "output_type": "execute_result"
    }
   ],
   "source": [
    "raw_data.dropna().isna().sum()"
   ]
  },
  {
   "cell_type": "code",
   "execution_count": 8,
   "metadata": {},
   "outputs": [
    {
     "data": {
      "text/html": [
       "<div>\n",
       "<style scoped>\n",
       "    .dataframe tbody tr th:only-of-type {\n",
       "        vertical-align: middle;\n",
       "    }\n",
       "\n",
       "    .dataframe tbody tr th {\n",
       "        vertical-align: top;\n",
       "    }\n",
       "\n",
       "    .dataframe thead th {\n",
       "        text-align: right;\n",
       "    }\n",
       "</style>\n",
       "<table border=\"1\" class=\"dataframe\">\n",
       "  <thead>\n",
       "    <tr style=\"text-align: right;\">\n",
       "      <th></th>\n",
       "      <th>name</th>\n",
       "      <th>real_name</th>\n",
       "      <th>history</th>\n",
       "      <th>gender</th>\n",
       "      <th>race</th>\n",
       "    </tr>\n",
       "  </thead>\n",
       "  <tbody>\n",
       "    <tr>\n",
       "      <th>0</th>\n",
       "      <td>3-D Man</td>\n",
       "      <td>Delroy Garrett, Jr.</td>\n",
       "      <td>Delroy Garrett, Jr. grew up to become a track ...</td>\n",
       "      <td>Male</td>\n",
       "      <td>Human</td>\n",
       "    </tr>\n",
       "    <tr>\n",
       "      <th>1</th>\n",
       "      <td>514A (Gotham)</td>\n",
       "      <td>Bruce Wayne</td>\n",
       "      <td>He was one of the many prisoners of Indian Hil...</td>\n",
       "      <td>NaN</td>\n",
       "      <td>NaN</td>\n",
       "    </tr>\n",
       "    <tr>\n",
       "      <th>2</th>\n",
       "      <td>A-Bomb</td>\n",
       "      <td>Richard Milhouse Jones</td>\n",
       "      <td>Richard \"Rick\" Jones was orphaned at a young ...</td>\n",
       "      <td>Male</td>\n",
       "      <td>Human</td>\n",
       "    </tr>\n",
       "    <tr>\n",
       "      <th>3</th>\n",
       "      <td>Aa</td>\n",
       "      <td>Aa</td>\n",
       "      <td>Aa is one of the more passive members of the P...</td>\n",
       "      <td>Male</td>\n",
       "      <td>Human</td>\n",
       "    </tr>\n",
       "    <tr>\n",
       "      <th>4</th>\n",
       "      <td>Aaron Cash</td>\n",
       "      <td>Aaron Cash</td>\n",
       "      <td>Aaron Cash is the head of security at Arkham A...</td>\n",
       "      <td>Male</td>\n",
       "      <td>Human</td>\n",
       "    </tr>\n",
       "    <tr>\n",
       "      <th>...</th>\n",
       "      <td>...</td>\n",
       "      <td>...</td>\n",
       "      <td>...</td>\n",
       "      <td>...</td>\n",
       "      <td>...</td>\n",
       "    </tr>\n",
       "    <tr>\n",
       "      <th>1444</th>\n",
       "      <td>Zane</td>\n",
       "      <td>Zane</td>\n",
       "      <td>Zane was created by Dr. Julien in a small work...</td>\n",
       "      <td>Male</td>\n",
       "      <td>Cyborg</td>\n",
       "    </tr>\n",
       "    <tr>\n",
       "      <th>1446</th>\n",
       "      <td>Zero</td>\n",
       "      <td>DWN-∞: Zero</td>\n",
       "      <td>Zero was created by the late Dr. Albert Wily ...</td>\n",
       "      <td>Male</td>\n",
       "      <td>Cyborg</td>\n",
       "    </tr>\n",
       "    <tr>\n",
       "      <th>1447</th>\n",
       "      <td>Zoom (New 52)</td>\n",
       "      <td>Hunter Zolomon</td>\n",
       "      <td>Hunter Zolomon is better known as Zoom, a spee...</td>\n",
       "      <td>Male</td>\n",
       "      <td>NaN</td>\n",
       "    </tr>\n",
       "    <tr>\n",
       "      <th>1448</th>\n",
       "      <td>Zoom</td>\n",
       "      <td>Hunter Zolomon</td>\n",
       "      <td>Hunter Zolomon had a troubled relationship wi...</td>\n",
       "      <td>Male</td>\n",
       "      <td>NaN</td>\n",
       "    </tr>\n",
       "    <tr>\n",
       "      <th>1449</th>\n",
       "      <td>Zzzax</td>\n",
       "      <td>NaN</td>\n",
       "      <td>Zzzax was the product of an accident that occu...</td>\n",
       "      <td>NaN</td>\n",
       "      <td>NaN</td>\n",
       "    </tr>\n",
       "  </tbody>\n",
       "</table>\n",
       "<p>1068 rows × 5 columns</p>\n",
       "</div>"
      ],
      "text/plain": [
       "               name               real_name  \\\n",
       "0           3-D Man     Delroy Garrett, Jr.   \n",
       "1     514A (Gotham)             Bruce Wayne   \n",
       "2            A-Bomb  Richard Milhouse Jones   \n",
       "3                Aa                      Aa   \n",
       "4        Aaron Cash              Aaron Cash   \n",
       "...             ...                     ...   \n",
       "1444           Zane                    Zane   \n",
       "1446           Zero             DWN-∞: Zero   \n",
       "1447  Zoom (New 52)          Hunter Zolomon   \n",
       "1448           Zoom          Hunter Zolomon   \n",
       "1449          Zzzax                     NaN   \n",
       "\n",
       "                                                history gender    race  \n",
       "0     Delroy Garrett, Jr. grew up to become a track ...   Male   Human  \n",
       "1     He was one of the many prisoners of Indian Hil...    NaN     NaN  \n",
       "2      Richard \"Rick\" Jones was orphaned at a young ...   Male   Human  \n",
       "3     Aa is one of the more passive members of the P...   Male   Human  \n",
       "4     Aaron Cash is the head of security at Arkham A...   Male   Human  \n",
       "...                                                 ...    ...     ...  \n",
       "1444  Zane was created by Dr. Julien in a small work...   Male  Cyborg  \n",
       "1446   Zero was created by the late Dr. Albert Wily ...   Male  Cyborg  \n",
       "1447  Hunter Zolomon is better known as Zoom, a spee...   Male     NaN  \n",
       "1448   Hunter Zolomon had a troubled relationship wi...   Male     NaN  \n",
       "1449  Zzzax was the product of an accident that occu...    NaN     NaN  \n",
       "\n",
       "[1068 rows x 5 columns]"
      ]
     },
     "execution_count": 8,
     "metadata": {},
     "output_type": "execute_result"
    }
   ],
   "source": [
    "raw_data"
   ]
  },
  {
   "cell_type": "code",
   "execution_count": 9,
   "metadata": {},
   "outputs": [],
   "source": [
    "# raw_data.dropna(inplace=True)\n",
    "raw_data.sample(frac=1).reset_index(drop=True)\n",
    "raw_data.drop_duplicates(inplace=True)\n",
    "\n",
    "raw_data.bfill(inplace=True)\n",
    "raw_data.ffill(inplace=True)"
   ]
  },
  {
   "cell_type": "code",
   "execution_count": 10,
   "metadata": {},
   "outputs": [
    {
     "data": {
      "text/plain": [
       "name                                     Hellboy (Injustice 2)\n",
       "real_name                                        Anung Un Rama\n",
       "history      Biography As a member of the Bureau for Parano...\n",
       "gender                                                    Male\n",
       "race                                                     Demon\n",
       "Name: 589, dtype: object"
      ]
     },
     "execution_count": 10,
     "metadata": {},
     "output_type": "execute_result"
    }
   ],
   "source": [
    "raw_data.iloc[512]"
   ]
  },
  {
   "cell_type": "code",
   "execution_count": 11,
   "metadata": {},
   "outputs": [
    {
     "data": {
      "text/html": [
       "<div>\n",
       "<style scoped>\n",
       "    .dataframe tbody tr th:only-of-type {\n",
       "        vertical-align: middle;\n",
       "    }\n",
       "\n",
       "    .dataframe tbody tr th {\n",
       "        vertical-align: top;\n",
       "    }\n",
       "\n",
       "    .dataframe thead th {\n",
       "        text-align: right;\n",
       "    }\n",
       "</style>\n",
       "<table border=\"1\" class=\"dataframe\">\n",
       "  <thead>\n",
       "    <tr style=\"text-align: right;\">\n",
       "      <th></th>\n",
       "      <th>name</th>\n",
       "      <th>real_name</th>\n",
       "      <th>history</th>\n",
       "      <th>gender</th>\n",
       "      <th>race</th>\n",
       "    </tr>\n",
       "  </thead>\n",
       "  <tbody>\n",
       "    <tr>\n",
       "      <th>0</th>\n",
       "      <td>Harvey Bullock</td>\n",
       "      <td>Alexander Summers</td>\n",
       "      <td>Alex Summers is first shown to be in solitary ...</td>\n",
       "      <td>Male</td>\n",
       "      <td>Mutant</td>\n",
       "    </tr>\n",
       "    <tr>\n",
       "      <th>1</th>\n",
       "      <td>Cannonball</td>\n",
       "      <td>Samuel Zachery Guthrie</td>\n",
       "      <td>The eldest of ten children, young Sam Guthrie ...</td>\n",
       "      <td>Male</td>\n",
       "      <td>Human</td>\n",
       "    </tr>\n",
       "    <tr>\n",
       "      <th>2</th>\n",
       "      <td>Yondu</td>\n",
       "      <td>Yondu Udonta</td>\n",
       "      <td>Yondu is the leader of the Ravagers, a group o...</td>\n",
       "      <td>Male</td>\n",
       "      <td>Alien</td>\n",
       "    </tr>\n",
       "    <tr>\n",
       "      <th>3</th>\n",
       "      <td>Phantom Girl</td>\n",
       "      <td>Tinya Wazzo</td>\n",
       "      <td>Tinya Wazzo was the only Bgtzlian who could in...</td>\n",
       "      <td>Female</td>\n",
       "      <td>Metahuman</td>\n",
       "    </tr>\n",
       "    <tr>\n",
       "      <th>4</th>\n",
       "      <td>Gandalf</td>\n",
       "      <td>Olórin</td>\n",
       "      <td>Gandalf was one of the five Istari sent to Mid...</td>\n",
       "      <td>Male</td>\n",
       "      <td>God</td>\n",
       "    </tr>\n",
       "    <tr>\n",
       "      <th>...</th>\n",
       "      <td>...</td>\n",
       "      <td>...</td>\n",
       "      <td>...</td>\n",
       "      <td>...</td>\n",
       "      <td>...</td>\n",
       "    </tr>\n",
       "    <tr>\n",
       "      <th>1051</th>\n",
       "      <td>Morph</td>\n",
       "      <td>Kevin Sydney</td>\n",
       "      <td>Morph has been succesful since his mutant abil...</td>\n",
       "      <td>Male</td>\n",
       "      <td>Animal</td>\n",
       "    </tr>\n",
       "    <tr>\n",
       "      <th>1052</th>\n",
       "      <td>Ventriloquist</td>\n",
       "      <td>Arnold Wesker</td>\n",
       "      <td>Arnold Wesker was a mild-mannered, timid and m...</td>\n",
       "      <td>Male</td>\n",
       "      <td>Metahuman</td>\n",
       "    </tr>\n",
       "    <tr>\n",
       "      <th>1053</th>\n",
       "      <td>The One</td>\n",
       "      <td>Overlord</td>\n",
       "      <td>Fusion of five Gods: Highfather, Ares, Zeus, J...</td>\n",
       "      <td>Male</td>\n",
       "      <td>Demon</td>\n",
       "    </tr>\n",
       "    <tr>\n",
       "      <th>1054</th>\n",
       "      <td>Hive (MCU)</td>\n",
       "      <td>Unknown</td>\n",
       "      <td>Alveus, also known as Hive, was a parasitic In...</td>\n",
       "      <td>Male</td>\n",
       "      <td>Inhuman</td>\n",
       "    </tr>\n",
       "    <tr>\n",
       "      <th>1055</th>\n",
       "      <td>M</td>\n",
       "      <td>Monet Yvette Clarisse Maria Therese St. Croix</td>\n",
       "      <td>The Monet first met and recruited to be part o...</td>\n",
       "      <td>Male</td>\n",
       "      <td>God</td>\n",
       "    </tr>\n",
       "  </tbody>\n",
       "</table>\n",
       "<p>1056 rows × 5 columns</p>\n",
       "</div>"
      ],
      "text/plain": [
       "                name                                      real_name  \\\n",
       "0     Harvey Bullock                              Alexander Summers   \n",
       "1         Cannonball                         Samuel Zachery Guthrie   \n",
       "2              Yondu                                   Yondu Udonta   \n",
       "3       Phantom Girl                                    Tinya Wazzo   \n",
       "4            Gandalf                                         Olórin   \n",
       "...              ...                                            ...   \n",
       "1051           Morph                                   Kevin Sydney   \n",
       "1052   Ventriloquist                                  Arnold Wesker   \n",
       "1053         The One                                       Overlord   \n",
       "1054      Hive (MCU)                                        Unknown   \n",
       "1055               M  Monet Yvette Clarisse Maria Therese St. Croix   \n",
       "\n",
       "                                                history  gender       race  \n",
       "0     Alex Summers is first shown to be in solitary ...    Male     Mutant  \n",
       "1     The eldest of ten children, young Sam Guthrie ...    Male      Human  \n",
       "2     Yondu is the leader of the Ravagers, a group o...    Male      Alien  \n",
       "3     Tinya Wazzo was the only Bgtzlian who could in...  Female  Metahuman  \n",
       "4     Gandalf was one of the five Istari sent to Mid...    Male        God  \n",
       "...                                                 ...     ...        ...  \n",
       "1051  Morph has been succesful since his mutant abil...    Male     Animal  \n",
       "1052  Arnold Wesker was a mild-mannered, timid and m...    Male  Metahuman  \n",
       "1053  Fusion of five Gods: Highfather, Ares, Zeus, J...    Male      Demon  \n",
       "1054  Alveus, also known as Hive, was a parasitic In...    Male    Inhuman  \n",
       "1055  The Monet first met and recruited to be part o...    Male        God  \n",
       "\n",
       "[1056 rows x 5 columns]"
      ]
     },
     "execution_count": 11,
     "metadata": {},
     "output_type": "execute_result"
    }
   ],
   "source": [
    "raw_data.sample(frac=1).reset_index(drop=True)"
   ]
  },
  {
   "cell_type": "code",
   "execution_count": 12,
   "metadata": {},
   "outputs": [],
   "source": [
    "sns.set(rc={'figure.figsize':(13,5)})"
   ]
  },
  {
   "cell_type": "code",
   "execution_count": 13,
   "metadata": {
    "scrolled": true
   },
   "outputs": [
    {
     "data": {
      "image/png": "[encoded data removed]",
      "text/plain": [
       "<Figure size 936x360 with 1 Axes>"
      ]
     },
     "metadata": {},
     "output_type": "display_data"
    }
   ],
   "source": [
    "plot=sns.countplot(x=raw_data['race'])\n",
    "plot.set_xticklabels(plot.get_xticklabels(),rotation=35)\n",
    "plt.show()"
   ]
  },
  {
   "cell_type": "code",
   "execution_count": 14,
   "metadata": {},
   "outputs": [],
   "source": [
    "import nltk\n",
    "import re\n",
    "from nltk.corpus import stopwords\n",
    "from nltk import WordNetLemmatizer\n",
    "\n",
    "from sklearn.feature_extraction.text import TfidfVectorizer\n",
    "from sklearn.metrics import accuracy_score\n",
    "\n",
    "from sklearn.ensemble import RandomForestClassifier"
   ]
  },
  {
   "cell_type": "code",
   "execution_count": 15,
   "metadata": {},
   "outputs": [],
   "source": [
    "vectorizer=TfidfVectorizer(max_features=5000, analyzer='word', encoding='utf-8')\n",
    "model=RandomForestClassifier()\n",
    "lemmetizer=WordNetLemmatizer()\n",
    "stopwords=stopwords.words('english')"
   ]
  },
  {
   "cell_type": "code",
   "execution_count": 16,
   "metadata": {},
   "outputs": [],
   "source": [
    "cleaned_data=[]\n",
    "for sentance in raw_data['history']:\n",
    "    sentance=re.sub('[^a-zA-Z]',' ',sentance.lower())\n",
    "    sentance=[i for i in sentance.split() if i not in stopwords]\n",
    "    words=[]\n",
    "    for word in sentance:\n",
    "        words.append(lemmetizer.lemmatize(word))\n",
    "    cleaned_data.append(' '.join(words))"
   ]
  },
  {
   "cell_type": "code",
   "execution_count": 17,
   "metadata": {},
   "outputs": [],
   "source": [
    "vector=vectorizer.fit_transform(cleaned_data)"
   ]
  },
  {
   "cell_type": "code",
   "execution_count": 18,
   "metadata": {},
   "outputs": [],
   "source": [
    "model.fit(vector,raw_data['race'])\n",
    "Y=model.predict(vector)"
   ]
  },
  {
   "cell_type": "code",
   "execution_count": 19,
   "metadata": {},
   "outputs": [
    {
     "data": {
      "text/plain": [
       "0.9526515151515151"
      ]
     },
     "execution_count": 19,
     "metadata": {},
     "output_type": "execute_result"
    }
   ],
   "source": [
    "accuracy_score(Y,raw_data['race'])"
   ]
  },
  {
   "cell_type": "code",
   "execution_count": 20,
   "metadata": {},
   "outputs": [
    {
     "data": {
      "text/plain": [
       "1006"
      ]
     },
     "execution_count": 20,
     "metadata": {},
     "output_type": "execute_result"
    }
   ],
   "source": [
    "sum(raw_data['race']==Y)"
   ]
  },
  {
   "cell_type": "code",
   "execution_count": 21,
   "metadata": {},
   "outputs": [],
   "source": [
    "def process_data(text_data):\n",
    "    cleaned_data = []\n",
    "    for sentence in text_data:\n",
    "        sentence = re.sub('[^a-zA-Z0-9]', ' ', sentence.lower())\n",
    "        sentence = [i for i in sentence.split() if i not in stopwords]\n",
    "        words = []\n",
    "        for word in sentence:\n",
    "            words.append(lemmetizer.lemmatize(word))\n",
    "        cleaned_data.append(' '.join(words))\n",
    "    return cleaned_data"
   ]
  },
  {
   "cell_type": "code",
   "execution_count": 22,
   "metadata": {},
   "outputs": [],
   "source": [
    "def get_hero_race(history):\n",
    "    clean_text = process_data([history])\n",
    "    vector = vectorizer.transform(clean_text)\n",
    "    result = model.predict(vector)\n",
    "    print(result)\n",
    "    return result"
   ]
  },
  {
   "cell_type": "code",
   "execution_count": 23,
   "metadata": {
    "scrolled": true
   },
   "outputs": [
    {
     "name": "stdout",
     "output_type": "stream",
     "text": [
      "['God']\n"
     ]
    },
    {
     "data": {
      "text/plain": [
       "array(['God'], dtype=object)"
      ]
     },
     "execution_count": 23,
     "metadata": {},
     "output_type": "execute_result"
    }
   ],
   "source": [
    "get_hero_race('Zane was created by Dr. Julien in a small work')"
   ]
  },
  {
   "cell_type": "code",
   "execution_count": 24,
   "metadata": {},
   "outputs": [],
   "source": [
    "from sklearn.naive_bayes import MultinomialNB\n",
    "from sklearn.svm import SVC\n",
    "from sklearn.neighbors import KNeighborsClassifier"
   ]
  },
  {
   "cell_type": "code",
   "execution_count": 25,
   "metadata": {},
   "outputs": [
    {
     "name": "stdout",
     "output_type": "stream",
     "text": [
      "0.5928030303030303\n",
      "['Mutant']\n"
     ]
    },
    {
     "data": {
      "text/plain": [
       "array(['Mutant'], dtype='<U18')"
      ]
     },
     "execution_count": 25,
     "metadata": {},
     "output_type": "execute_result"
    }
   ],
   "source": [
    "model=MultinomialNB()\n",
    "model.fit(vector,raw_data['race'])\n",
    "Y=model.predict(vector)\n",
    "print(accuracy_score(Y,raw_data['race']))\n",
    "get_hero_race('Zane was created by Dr. Julien in a small work')"
   ]
  },
  {
   "cell_type": "code",
   "execution_count": 26,
   "metadata": {},
   "outputs": [
    {
     "name": "stdout",
     "output_type": "stream",
     "text": [
      "0.9195075757575758\n",
      "['Cyborg']\n"
     ]
    },
    {
     "data": {
      "text/plain": [
       "array(['Cyborg'], dtype=object)"
      ]
     },
     "execution_count": 26,
     "metadata": {},
     "output_type": "execute_result"
    }
   ],
   "source": [
    "model=SVC()\n",
    "model.fit(vector,raw_data['race'])\n",
    "Y=model.predict(vector)\n",
    "print(accuracy_score(Y,raw_data['race']))\n",
    "get_hero_race('Zane was created by Dr. Julien in a small work')"
   ]
  },
  {
   "cell_type": "code",
   "execution_count": 27,
   "metadata": {},
   "outputs": [
    {
     "name": "stdout",
     "output_type": "stream",
     "text": [
      "0.571969696969697\n",
      "['Cyborg']\n"
     ]
    },
    {
     "data": {
      "text/plain": [
       "array(['Cyborg'], dtype=object)"
      ]
     },
     "execution_count": 27,
     "metadata": {},
     "output_type": "execute_result"
    }
   ],
   "source": [
    "model=KNeighborsClassifier()\n",
    "model.fit(vector,raw_data['race'])\n",
    "Y=model.predict(vector)\n",
    "print(accuracy_score(Y,raw_data['race']))\n",
    "get_hero_race('Zane was created by Dr. Julien in a small work')"
   ]
  },
  {
   "cell_type": "code",
   "execution_count": 28,
   "metadata": {},
   "outputs": [],
   "source": [
    "from sklearn.tree import DecisionTreeClassifier"
   ]
  },
  {
   "cell_type": "code",
   "execution_count": 29,
   "metadata": {},
   "outputs": [
    {
     "name": "stdout",
     "output_type": "stream",
     "text": [
      "0.9526515151515151\n",
      "['Mutant']\n"
     ]
    },
    {
     "data": {
      "text/plain": [
       "array(['Mutant'], dtype=object)"
      ]
     },
     "execution_count": 29,
     "metadata": {},
     "output_type": "execute_result"
    }
   ],
   "source": [
    "model=DecisionTreeClassifier()\n",
    "model.fit(vector,raw_data['race'])\n",
    "Y=model.predict(vector)\n",
    "print(accuracy_score(Y,raw_data['race']))\n",
    "get_hero_race('Zane was created by Dr. Julien in a small work')"
   ]
  },
  {
   "cell_type": "code",
   "execution_count": null,
   "metadata": {},
   "outputs": [],
   "source": []
  },
  {
   "cell_type": "code",
   "execution_count": null,
   "metadata": {},
   "outputs": [],
   "source": []
  }
 ],
 "metadata": {
  "kernelspec": {
   "display_name": "MLAI",
   "language": "python",
   "name": "mlai"
  },
  "language_info": {
   "codemirror_mode": {
    "name": "ipython",
    "version": 3
   },
   "file_extension": ".py",
   "mimetype": "text/x-python",
   "name": "python",
   "nbconvert_exporter": "python",
   "pygments_lexer": "ipython3",
   "version": "3.8.5"
  }
 },
 "nbformat": 4,
 "nbformat_minor": 4
}
